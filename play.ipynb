{
 "cells": [
  {
   "metadata": {
    "ExecuteTime": {
     "end_time": "2025-03-19T22:35:13.919619Z",
     "start_time": "2025-03-19T22:35:13.916157Z"
    }
   },
   "cell_type": "code",
   "source": [
    "distance_matrix = [\n",
    "    [0, 50, 80, 80, 50, 80, 80, 82, 84, 86],        # depot 0\n",
    "    [50, 0, 0, 80, 80, 80, 50, 50, 90, 90],         # station 1\n",
    "    [80, 70, 0, 50, 80, 80, 80, 80, 80, 80],        # station 2\n",
    "    [80, 80, 50, 0, 50, 80, 50, 50, 80, 80],        # station 3\n",
    "    [50, 80, 80, 50, 0, 70, 90, 80, 30, 30],        # station 4\n",
    "    [80, 80, 80, 80, 70, 0, 80, 80, 80, 80],        # station 5\n",
    "    [80, 50, 80, 50, 90, 80, 0, 80, 90, 90],        # customer 6\n",
    "    [82, 50, 80, 50, 80, 80, 80, 0, 90, 90],        # customer 7\n",
    "    [84, 90, 80, 80, 30, 80, 90, 90, 0, 30],        # customer 8\n",
    "    [86, 90, 80, 80, 30, 80, 90, 90, 30, 0]         # customer 9\n",
    "]\n",
    "\n",
    "time_windows = {\n",
    "    0: (0, 500),   # Depot\n",
    "    1: (0, 500),   # Charging station\n",
    "    2: (0, 500),   # Charging station\n",
    "    3: (0, 500),   # Charging station\n",
    "    4: (0, 500),   # Charging station\n",
    "    5: (0, 500),   # Charging station\n",
    "    6: (100, 145), # Customer\n",
    "    7: (125, 155), # Customer\n",
    "    8: (165, 215), # Customer\n",
    "    9: (245, 295)  # Customer\n",
    "}\n",
    "\n",
    "nodes = list(range(len(distance_matrix)))  # [0, 1, ..., 9]\n",
    "depot = 0\n",
    "charging_stations = [1, 2, 3, 4, 5]\n",
    "customers_robot_only = [6, 8, 9]    # chỉ robot giao\n",
    "customers_both = [7]                # van hoặc robot đều giao\n",
    "all_customers = customers_robot_only + customers_both\n",
    "\n",
    "# Tham số của van và robot\n",
    "van_params = {\n",
    "    \"speed\": 2.0,\n",
    "    \"battery_capacity\": 400.0,\n",
    "    \"capacity\": 200.0,\n",
    "    \"travel_cost_rate\": 2.0,\n",
    "    \"energy_consumption_rate\": 2.0,\n",
    "    \"charge_rate\": 10.0\n",
    "}\n",
    "\n",
    "robot_params = {\n",
    "    \"speed\": 1.0,\n",
    "    \"battery_capacity\": 120.0,\n",
    "    \"capacity\": 50.0,\n",
    "    \"travel_cost_rate\": 1.0,\n",
    "    \"energy_consumption_rate\": 1.0,\n",
    "    \"charge_rate\": 4.0\n",
    "}"
   ],
   "outputs": [],
   "execution_count": 32
  },
  {
   "metadata": {},
   "cell_type": "markdown",
   "source": "## Define problem"
  }
 ],
 "metadata": {
  "kernelspec": {
   "display_name": "cs224n_a2",
   "language": "python",
   "name": "python3"
  },
  "language_info": {
   "codemirror_mode": {
    "name": "ipython",
    "version": 3
   },
   "file_extension": ".py",
   "mimetype": "text/x-python",
   "name": "python",
   "nbconvert_exporter": "python",
   "pygments_lexer": "ipython3",
   "version": "3.12.7"
  }
 },
 "nbformat": 4,
 "nbformat_minor": 2
}
